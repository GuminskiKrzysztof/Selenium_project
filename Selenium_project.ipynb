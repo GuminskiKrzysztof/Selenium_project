{
 "cells": [
  {
   "cell_type": "markdown",
   "id": "1b07ab31",
   "metadata": {},
   "source": [
    "# Projekt: Automatyzacja i Scrapowanie z Selenium"
   ]
  },
  {
   "cell_type": "markdown",
   "id": "8403140c",
   "metadata": {},
   "source": [
    "Selenium to zaawansowane narzędzie umożliwiające automatyzację przeglądarek internetowych. Jest ono szeroko stosowane w testowaniu aplikacji webowych, scrapowaniu danych oraz w automatyzacji różnorodnych procesów związanych z interakcjami z witrynami internetowymi. W tym projekcie przedstawiamy zastosowanie Selenium w języku Python, pokazując różnorodne funkcje, takie jak interakcje z elementami stron, przewijanie, przełączanie kart czy obsługa wyjątków."
   ]
  },
  {
   "cell_type": "markdown",
   "id": "e00509d0",
   "metadata": {},
   "source": [
    "## 🚀 Instalacja i Konfiguracja"
   ]
  },
  {
   "cell_type": "markdown",
   "id": "e059d79f",
   "metadata": {},
   "source": [
    "Aby rozpocząć pracę z Selenium, należy zainstalować bibliotekę oraz odpowiedni sterownik dla używanej przeglądarki (w tym przypadku Microsoft Edge)."
   ]
  },
  {
   "cell_type": "markdown",
   "id": "84c697bc-e199-4960-bb18-a0eb6dfdc913",
   "metadata": {},
   "source": [
    "```\n",
    "%pip install selenium\n",
    "\n",
    "%pip install webdriver-manager\n",
    "```"
   ]
  },
  {
   "cell_type": "markdown",
   "id": "890841f3",
   "metadata": {},
   "source": [
    "Przykładowa konfiguracja:"
   ]
  },
  {
   "cell_type": "code",
   "execution_count": 2,
   "id": "8d478498-9eac-4dc5-817e-91d486b461e1",
   "metadata": {},
   "outputs": [],
   "source": [
    "from selenium import webdriver\n",
    "from selenium.webdriver.common.by import By\n",
    "from webdriver_manager.microsoft import EdgeChromiumDriverManager\n",
    "from selenium.webdriver.edge.service import Service\n",
    "\n",
    "# Automatyczne pobranie sterownika\n",
    "service = Service(EdgeChromiumDriverManager().install())"
   ]
  },
  {
   "cell_type": "markdown",
   "id": "2464ecd3",
   "metadata": {},
   "source": [
    "## 🤖 Przykłady zastosowań **Selenium**"
   ]
  },
  {
   "cell_type": "markdown",
   "id": "a5f0f9e5",
   "metadata": {},
   "source": [
    "### 1. 🌐 Otwarcie strony i pobranie tytułu"
   ]
  },
  {
   "cell_type": "markdown",
   "id": "5040726e",
   "metadata": {},
   "source": [
    "Selenium pozwala na automatyczne otwieranie stron i odczytywanie ich tytułów:"
   ]
  },
  {
   "cell_type": "code",
   "execution_count": 3,
   "id": "c5d94a32-9c31-435d-b24a-151a8ba3cecf",
   "metadata": {},
   "outputs": [
    {
     "name": "stdout",
     "output_type": "stream",
     "text": [
      "Tytuł strony: Facebook – zaloguj się lub zarejestruj\n"
     ]
    }
   ],
   "source": [
    "driver = webdriver.Edge(service=service)\n",
    "driver.get('https://pl-pl.facebook.com/')\n",
    "\n",
    "print(\"Tytuł strony:\", driver.title)\n",
    "driver.quit()"
   ]
  },
  {
   "cell_type": "markdown",
   "id": "acab1554",
   "metadata": {},
   "source": [
    "### 2. 🏷️ Pobieranie Tekstu Elementów HTML"
   ]
  },
  {
   "cell_type": "markdown",
   "id": "32db6ff2",
   "metadata": {},
   "source": [
    "Za pomocą Selenium można łatwo wyciągnąć tekst z określonych elementów na stronie:"
   ]
  },
  {
   "cell_type": "code",
   "execution_count": 4,
   "id": "e7f30dc3-be0c-46f6-b5c5-a7c98c1eb013",
   "metadata": {},
   "outputs": [
    {
     "name": "stdout",
     "output_type": "stream",
     "text": [
      "Tytuł nagłówka: Forum\n"
     ]
    }
   ],
   "source": [
    "import time\n",
    "driver = webdriver.Edge(service=service)\n",
    "driver.get('https://forum-sportowe.pl/')\n",
    "\n",
    "element = driver.find_element(By.TAG_NAME, 'h1')\n",
    "print(f\"Tytuł nagłówka: {element.text}\")\n",
    "time.sleep(5)\n",
    "driver.quit()"
   ]
  },
  {
   "cell_type": "markdown",
   "id": "85741172",
   "metadata": {},
   "source": [
    "*pobieranie za pomocą różnych \"BY\"*"
   ]
  },
  {
   "cell_type": "markdown",
   "id": "88b4cda4",
   "metadata": {},
   "source": [
    "### 3. ✅ Obsługa popupów i klikanie elementów"
   ]
  },
  {
   "cell_type": "markdown",
   "id": "cd2fe814",
   "metadata": {},
   "source": [
    "Można automatycznie obsługiwać popupy, takie jak zgody na pliki cookie:"
   ]
  },
  {
   "cell_type": "code",
   "execution_count": 5,
   "id": "85c9cd37-1deb-4adb-a13e-e3b24001a714",
   "metadata": {},
   "outputs": [],
   "source": [
    "driver = webdriver.Edge(service=service)\n",
    "driver.get('https://sport.interia.pl/')\n",
    "\n",
    "pass_button = driver.find_element(By.CLASS_NAME, 'rodo-popup-agree')\n",
    "pass_button.click()\n",
    "time.sleep(3)\n",
    "driver.quit()"
   ]
  },
  {
   "cell_type": "markdown",
   "id": "08f2e766",
   "metadata": {},
   "source": [
    "### 4. 🔑 Automatyzacja logowania"
   ]
  },
  {
   "cell_type": "markdown",
   "id": "72dfbf63",
   "metadata": {},
   "source": [
    "Selenium umożliwia wypełnianie formularzy i symulowanie logowania:"
   ]
  },
  {
   "cell_type": "code",
   "execution_count": 16,
   "id": "6724acd6-6d52-436d-954c-41d177339a94",
   "metadata": {},
   "outputs": [
    {
     "name": "stdout",
     "output_type": "stream",
     "text": [
      "Próba zalogowania!\n"
     ]
    }
   ],
   "source": [
    "driver = webdriver.Edge(service=service)\n",
    "driver.get('https://github.com/login')\n",
    "\n",
    "driver.find_element(By.ID, 'login_field').send_keys(\"moj_login\")\n",
    "# driver.find_element(By.ID, 'password').send_keys(\"moje_haslo\")\n",
    "driver.find_element(By.CLASS_NAME, 'btn-primary').click()\n",
    "print(\"Próba zalogowania!\")\n",
    "time.sleep(3)\n",
    "driver.quit()"
   ]
  },
  {
   "cell_type": "code",
   "execution_count": 21,
   "id": "4292d0f2",
   "metadata": {},
   "outputs": [
    {
     "name": "stdout",
     "output_type": "stream",
     "text": [
      "Próba zalogowania!\n"
     ]
    }
   ],
   "source": [
    "driver = webdriver.Edge(service=service)\n",
    "driver.get('https://platforma.polsl.pl/rms/login/index.php')\n",
    "\n",
    "driver.find_element(By.ID, 'username').send_keys(\"moj_login\")\n",
    "driver.find_element(By.ID, 'password').send_keys(\"moje_haslo\")\n",
    "driver.find_element(By.CLASS_NAME, 'btn-primary').click()\n",
    "print(\"Próba zalogowania!\")\n",
    "time.sleep(3)\n",
    "driver.quit()"
   ]
  },
  {
   "cell_type": "markdown",
   "id": "a204afb4",
   "metadata": {},
   "source": [
    "### 5. 🔗 Scrapowanie linków"
   ]
  },
  {
   "cell_type": "markdown",
   "id": "0a50300f",
   "metadata": {},
   "source": [
    "Pobieranie linków z wyników wyszukiwania na Kaggle:"
   ]
  },
  {
   "cell_type": "code",
   "execution_count": 7,
   "id": "0374c35d-6567-4d09-8f26-9ecfedbec4d2",
   "metadata": {},
   "outputs": [
    {
     "name": "stdout",
     "output_type": "stream",
     "text": [
      "['https://www.kaggle.com/code/kagarg/chatbot', 'https://www.kaggle.com/code/rahulvks/text-classification-chatbot', 'https://www.kaggle.com/code/jocelyndumlao/chatbot-for-mental-health-conversations', 'https://www.kaggle.com/code/melkmanszoon/building-a-chatbot', 'https://www.kaggle.com/code/rajkumarl/conversational-ai-chatbot', 'https://www.kaggle.com/code/akshitrai/chatbot-jarvis', 'https://www.kaggle.com/code/hinepo/q-a-chatbot-with-llms-harry-potter', 'https://www.kaggle.com/code/abdallahwagih/chatbot-bookshop', 'https://www.kaggle.com/code/rohitadnaik/healthcare-chatbot', 'https://www.kaggle.com/code/niraliivaghani/chatbot-training-model', 'https://www.kaggle.com/code/pinooxd/gpt2-chatbot', 'https://www.kaggle.com/code/mahmoudreda55/generative-chatbot', 'https://www.kaggle.com/code/mohsinsial/medical-chatbot', 'https://www.kaggle.com/code/markishere/day-3-building-an-agent-with-langgraph', 'https://www.kaggle.com/code/currie32/a-south-park-chatbot', 'https://www.kaggle.com/code/bunnyhopper/anime-chatbot', 'https://www.kaggle.com/code/programminghut/seq2seq-chatbot-keras-with-attention', 'https://www.kaggle.com/code/hosammhmdali/nlp-chatbot', 'https://www.kaggle.com/code/gaurangthakur/chatbot', 'https://www.kaggle.com/code/therealsampat/first-aid-recommendation-deep-learning-chatbot']\n"
     ]
    }
   ],
   "source": [
    "driver = webdriver.Edge(service=service)\n",
    "\n",
    "urls = []\n",
    "url = \"https://www.kaggle.com/search?q=chatbot+in%3Anotebooks\"\n",
    "driver.get(url)\n",
    "time.sleep(5)\n",
    "\n",
    "ul_element = driver.find_element(By.XPATH, '//*[@id=\"results\"]/ul[1]')\n",
    "\n",
    "# Znajdź wszystkie linki <a> w <ul>\n",
    "a_elements = ul_element.find_elements(By.TAG_NAME, \"a\")\n",
    "\n",
    "for a in a_elements:\n",
    "    if a.get_attribute(\"role\") == \"link\":\n",
    "        href = a.get_attribute(\"href\")\n",
    "        if href and href.startswith(\"/\"):\n",
    "            href = \"https://www.kaggle.com\" + href\n",
    "        urls.append(href)\n",
    "driver.quit()\n",
    "print(urls)"
   ]
  },
  {
   "cell_type": "markdown",
   "id": "98dc655b",
   "metadata": {},
   "source": [
    "### 6. 📜 Przewijanie strony"
   ]
  },
  {
   "cell_type": "markdown",
   "id": "91682baa",
   "metadata": {},
   "source": [
    "Automatyczne przewinięcie strony:"
   ]
  },
  {
   "cell_type": "code",
   "execution_count": 22,
   "id": "9421e696-b141-4d19-b62a-9a122ad8962b",
   "metadata": {},
   "outputs": [
    {
     "name": "stdout",
     "output_type": "stream",
     "text": [
      "Przewinięto stronę w dół.\n"
     ]
    }
   ],
   "source": [
    "driver = webdriver.Edge(service=service)\n",
    "driver.get('https://forum-sportowe.pl/')\n",
    "\n",
    "driver.execute_script(\"window.scrollTo(0, document.body.scrollHeight);\")\n",
    "print(\"Przewinięto stronę w dół.\")\n",
    "time.sleep(5)\n",
    "driver.quit()"
   ]
  },
  {
   "cell_type": "markdown",
   "id": "424cee09",
   "metadata": {},
   "source": [
    "### 7. ✍️ Scrapowanie treści postów"
   ]
  },
  {
   "cell_type": "markdown",
   "id": "8fbfb27b",
   "metadata": {},
   "source": [
    "Można zbierać dane ze stron internetowych i zapisywać je w strukturze tabelarycznej:"
   ]
  },
  {
   "cell_type": "code",
   "execution_count": 9,
   "id": "a5483534-1d3f-4bad-a521-34cf85cb5eb7",
   "metadata": {},
   "outputs": [
    {
     "name": "stdout",
     "output_type": "stream",
     "text": [
      "                                               tekst    kategoria\n",
      "0  W dzisiejszym szybkim tempie życia stres staje...  Psychiatria\n",
      "1  Bardzo lubię pić gorące napoje takie jak kawa ...  Psychiatria\n",
      "2  Zdecydowanie praca a zwłaszcza gdy się pracuje...  Psychiatria\n",
      "3  Mleko z kakao można wypić. Napój pomarańczowy ...  Psychiatria\n"
     ]
    }
   ],
   "source": [
    "import pandas as pd\n",
    "\n",
    "driver = webdriver.Edge(service=service)\n",
    "\n",
    "base_url = 'https://forumpsychiatryczne.pl/forum/'\n",
    "driver.get(base_url)\n",
    "time.sleep(2)\n",
    "\n",
    "pass_button = driver.find_element(By.CLASS_NAME, 'css-47sehv')\n",
    "pass_button.click()\n",
    "\n",
    "scrapped_posts = []\n",
    "\n",
    "thread_links = driver.find_elements(By.CSS_SELECTOR, 'a.text-xl.font-bold.text-primary')\n",
    "urls = [link.get_attribute('href') for link in thread_links]\n",
    "\n",
    "for url in urls:\n",
    "    driver.get(url)\n",
    "\n",
    "    post_links = driver.find_elements(By.CSS_SELECTOR, 'a.mr-4')\n",
    "    plots_links = [post.get_attribute('href') for post in post_links]\n",
    "\n",
    "    for post_url in plots_links:\n",
    "        driver.get(post_url) \n",
    "\n",
    "        elements = driver.find_elements(By.CLASS_NAME, \"break-words\")\n",
    "        \n",
    "      \n",
    "        for element in elements:\n",
    "            scrapped_posts.append({\"tekst\": element.text, \"kategoria\": \"Psychiatria\"})\n",
    "        driver.quit()\n",
    "        break\n",
    "    break\n",
    "\n",
    "df = pd.DataFrame(scrapped_posts)\n",
    "print(df)"
   ]
  },
  {
   "cell_type": "markdown",
   "id": "e03e6799",
   "metadata": {},
   "source": [
    "*scrapowanie tabel*"
   ]
  },
  {
   "cell_type": "markdown",
   "id": "d9232e0c",
   "metadata": {},
   "source": [
    "*Web Scraping w połączeniu z API*"
   ]
  },
  {
   "cell_type": "markdown",
   "id": "ab7cc407",
   "metadata": {},
   "source": [
    "### 8. 🖥️ Zarządzanie kartami"
   ]
  },
  {
   "cell_type": "markdown",
   "id": "17a81e11",
   "metadata": {},
   "source": [
    "Obsługa wielu kart przeglądarki:"
   ]
  },
  {
   "cell_type": "code",
   "execution_count": 10,
   "id": "f47d0d7c-76dc-465b-b36d-8ac38dd66400",
   "metadata": {},
   "outputs": [
    {
     "name": "stdout",
     "output_type": "stream",
     "text": [
      "Przełączono na zakładkę: https://www.interia.pl/\n"
     ]
    }
   ],
   "source": [
    "driver = webdriver.Edge(service=service)\n",
    "driver.get(\"https://www.flashscore.pl/\")\n",
    "time.sleep(5)\n",
    "\n",
    "driver.execute_script(\"window.open('https://www.interia.pl/', '_blank');\")\n",
    "\n",
    "driver.switch_to.window(driver.window_handles[1])\n",
    "print(\"Przełączono na zakładkę:\", driver.current_url)\n",
    "time.sleep(5)\n",
    "driver.quit()"
   ]
  },
  {
   "cell_type": "markdown",
   "id": "3fd3d5b5",
   "metadata": {},
   "source": [
    "### 9. ⏳ Oczekiwanie na element"
   ]
  },
  {
   "cell_type": "markdown",
   "id": "4fe85ab8",
   "metadata": {},
   "source": [
    "Selenium pozwala na dynamiczne oczekiwanie na pojawienie się elementów:"
   ]
  },
  {
   "cell_type": "code",
   "execution_count": 11,
   "id": "a36d665c-4790-490c-8204-0103bde1dfb0",
   "metadata": {
    "scrolled": true
   },
   "outputs": [
    {
     "name": "stdout",
     "output_type": "stream",
     "text": [
      "Akcja!\n"
     ]
    }
   ],
   "source": [
    "from selenium.webdriver.support.ui import WebDriverWait\n",
    "from selenium.webdriver.support import expected_conditions as EC\n",
    "\n",
    "driver = webdriver.Edge(service=service)\n",
    "driver.get(\"https://www.flashscore.pl/\")\n",
    "\n",
    "wait = WebDriverWait(driver, 10)\n",
    "button = wait.until(EC.presence_of_element_located((By.ID, \"userControls\")))\n",
    "\n",
    "print(\"Akcja!\")\n",
    "driver.quit()"
   ]
  },
  {
   "cell_type": "markdown",
   "id": "798d71bf",
   "metadata": {},
   "source": [
    "### 10. 📸 Pobranie zrzutu ekranu"
   ]
  },
  {
   "cell_type": "markdown",
   "id": "437428aa",
   "metadata": {},
   "source": [
    "Możliwość zapisywania zrzutów ekranu:"
   ]
  },
  {
   "cell_type": "code",
   "execution_count": 12,
   "id": "3193dfdf-3ff5-447a-88a9-96293e6f942b",
   "metadata": {},
   "outputs": [
    {
     "name": "stdout",
     "output_type": "stream",
     "text": [
      "Zapisano zrzut ekranu.\n"
     ]
    }
   ],
   "source": [
    "driver = webdriver.Edge(service=service)\n",
    "driver.get('https://www.flashscore.pl/tabela/8OzStwmK/buJuHfwh/#/buJuHfwh/table/overall')\n",
    "time.sleep(3)\n",
    "\n",
    "driver.save_screenshot(\"screenshot.png\")\n",
    "print(\"Zapisano zrzut ekranu.\")\n",
    "driver.quit()"
   ]
  },
  {
   "cell_type": "markdown",
   "id": "1debff58",
   "metadata": {},
   "source": [
    "### 11. ✅ Testowanie za pomocą asercji"
   ]
  },
  {
   "cell_type": "markdown",
   "id": "6e7dd2cf",
   "metadata": {},
   "source": [
    "Weryfikacja poprawności elementów za pomocą asercji:"
   ]
  },
  {
   "cell_type": "code",
   "execution_count": 13,
   "id": "2a5a1723-5b08-4399-9afe-3da440e22498",
   "metadata": {},
   "outputs": [
    {
     "ename": "AssertionError",
     "evalue": "Tytuł strony jest niepoprawny!",
     "output_type": "error",
     "traceback": [
      "\u001b[1;31m---------------------------------------------------------------------------\u001b[0m",
      "\u001b[1;31mAssertionError\u001b[0m                            Traceback (most recent call last)",
      "Cell \u001b[1;32mIn[13], line 4\u001b[0m\n\u001b[0;32m      1\u001b[0m driver \u001b[38;5;241m=\u001b[39m webdriver\u001b[38;5;241m.\u001b[39mEdge(service\u001b[38;5;241m=\u001b[39mservice)\n\u001b[0;32m      2\u001b[0m driver\u001b[38;5;241m.\u001b[39mget(\u001b[38;5;124m'\u001b[39m\u001b[38;5;124mhttps://pl-pl.facebook.com/\u001b[39m\u001b[38;5;124m'\u001b[39m)\n\u001b[1;32m----> 4\u001b[0m \u001b[38;5;28;01massert\u001b[39;00m \u001b[38;5;124m\"\u001b[39m\u001b[38;5;124mFacebooki\u001b[39m\u001b[38;5;124m\"\u001b[39m \u001b[38;5;129;01min\u001b[39;00m driver\u001b[38;5;241m.\u001b[39mtitle, \u001b[38;5;124m\"\u001b[39m\u001b[38;5;124mTytuł strony jest niepoprawny!\u001b[39m\u001b[38;5;124m\"\u001b[39m\n\u001b[0;32m      6\u001b[0m \u001b[38;5;28mprint\u001b[39m(\u001b[38;5;124m\"\u001b[39m\u001b[38;5;124mTest zakończony pomyślnie.\u001b[39m\u001b[38;5;124m\"\u001b[39m)\n\u001b[0;32m      7\u001b[0m driver\u001b[38;5;241m.\u001b[39mquit()\n",
      "\u001b[1;31mAssertionError\u001b[0m: Tytuł strony jest niepoprawny!"
     ]
    }
   ],
   "source": [
    "driver = webdriver.Edge(service=service)\n",
    "driver.get('https://pl-pl.facebook.com/')\n",
    "\n",
    "assert \"Facebooki\" in driver.title, \"Tytuł strony jest niepoprawny!\"\n",
    "\n",
    "print(\"Test zakończony pomyślnie.\")\n",
    "driver.quit()"
   ]
  },
  {
   "cell_type": "markdown",
   "id": "c888efb9",
   "metadata": {},
   "source": [
    "### 12. ⚠️ Obsługa wyjątków"
   ]
  },
  {
   "cell_type": "markdown",
   "id": "32bafeb5",
   "metadata": {},
   "source": [
    "Radzenie sobie z błędami w Selenium:"
   ]
  },
  {
   "cell_type": "code",
   "execution_count": null,
   "id": "7a3f7186-25e7-4d51-9968-3724fcfb1ebc",
   "metadata": {},
   "outputs": [
    {
     "name": "stdout",
     "output_type": "stream",
     "text": [
      "Przełączono na zakładkę: https://www.interia.pl/\n"
     ]
    }
   ],
   "source": [
    "try:\n",
    "    driver = webdriver.Edge(service=service)\n",
    "    driver.get(\"https://www.flashscore.pl/\")\n",
    "    time.sleep(5)\n",
    "\n",
    "    driver.execute_script(\"window.open('https://www.interia.pl/', '_blank');\")\n",
    "\n",
    "    driver.switch_to.window(driver.window_handles[1])\n",
    "    print(\"Przełączono na zakładkę:\", driver.current_url)\n",
    "except Exception as e:\n",
    "    print(\"Błąd:\", e)\n",
    "finally:\n",
    "    driver.quit()"
   ]
  },
  {
   "cell_type": "markdown",
   "id": "06ca8879",
   "metadata": {},
   "source": [
    "*Interakcja z elementami formularzy, zaznaczanie checkboxów itp*"
   ]
  },
  {
   "cell_type": "markdown",
   "id": "3cb974c3",
   "metadata": {},
   "source": [
    "*paginacja*"
   ]
  },
  {
   "cell_type": "markdown",
   "id": "002c4cd4",
   "metadata": {},
   "source": [
    "*Interakcja z Elementami Canvas i SVG*"
   ]
  },
  {
   "cell_type": "markdown",
   "id": "3a93f8cb",
   "metadata": {},
   "source": [
    "*mobilne*"
   ]
  },
  {
   "cell_type": "markdown",
   "id": "6e520ae1",
   "metadata": {},
   "source": [
    "*Przechwytywanie i przetwarzanie JavaScript w przeglądarce*"
   ]
  },
  {
   "cell_type": "markdown",
   "id": "d19a2e86",
   "metadata": {},
   "source": [
    "*zrzut tylko elementu*"
   ]
  },
  {
   "cell_type": "markdown",
   "id": "e06d755a",
   "metadata": {},
   "source": [
    "*Automatyczne przewijanie do elementów*"
   ]
  },
  {
   "cell_type": "markdown",
   "id": "a56c24ca",
   "metadata": {},
   "source": [
    "*Zarządzanie ciasteczkami i sesjami*"
   ]
  },
  {
   "cell_type": "markdown",
   "id": "3778154a",
   "metadata": {},
   "source": [
    "*ustawienie responsywności strony*"
   ]
  },
  {
   "cell_type": "markdown",
   "id": "3077d735",
   "metadata": {},
   "source": [
    "*Ładowanie plików*"
   ]
  },
  {
   "cell_type": "markdown",
   "id": "56692b52",
   "metadata": {},
   "source": [
    "*Zbieranie danych z dynamicznych wykresów*"
   ]
  },
  {
   "cell_type": "markdown",
   "id": "ef3610a4",
   "metadata": {},
   "source": [
    "## 🏁 Podsumowanie"
   ]
  },
  {
   "cell_type": "markdown",
   "id": "3485b968",
   "metadata": {},
   "source": [
    "Selenium to kluczowe narzędzie w automatyzacji procesów webowych, pozwalające na interakcję z witrynami w sposób programistyczny. Dzięki jego elastyczności możliwe jest zarówno proste scrapowanie danych, jak i bardziej zaawansowane scenariusze, takie jak testy aplikacji czy obsługa dynamicznych treści. Zintegrowane mechanizmy, takie jak oczekiwanie na elementy czy obsługa wyjątków, czynią Selenium niezastąpionym narzędziem dla profesjonalistów zajmujących się automatyką i analizą danych w środowisku webowym."
   ]
  },
  {
   "cell_type": "markdown",
   "id": "2c3fb58d",
   "metadata": {},
   "source": []
  }
 ],
 "metadata": {
  "kernelspec": {
   "display_name": "Python 3",
   "language": "python",
   "name": "python3"
  },
  "language_info": {
   "codemirror_mode": {
    "name": "ipython",
    "version": 3
   },
   "file_extension": ".py",
   "mimetype": "text/x-python",
   "name": "python",
   "nbconvert_exporter": "python",
   "pygments_lexer": "ipython3",
   "version": "3.12.2"
  }
 },
 "nbformat": 4,
 "nbformat_minor": 5
}
