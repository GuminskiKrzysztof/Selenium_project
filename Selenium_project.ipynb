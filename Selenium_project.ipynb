{
 "cells": [
  {
   "cell_type": "markdown",
   "id": "1b07ab31",
   "metadata": {},
   "source": [
    "# Projekt I: Automatyzacja i Scrapowanie z Selenium\n",
    "\n",
    "*Krzysztof Gumiński, Nicolas Wardenga, Weronika Wołowczyk*"
   ]
  },
  {
   "cell_type": "markdown",
   "id": "8403140c",
   "metadata": {},
   "source": [
    "Selenium to zaawansowane narzędzie do automatyzacji przeglądarek internetowych, szeroko stosowane w testowaniu aplikacji webowych, scrapowaniu danych oraz automatyzacji procesów interakcji z witrynami internetowymi. \n",
    "W tym projekcie przedstawiamy praktyczne wykorzystanie Selenium w języku Python do pozyskiwania i przetwarzania danych w celu ich dalszej analizy i wizualizacji."
   ]
  },
  {
   "cell_type": "markdown",
   "id": "e00509d0",
   "metadata": {},
   "source": [
    "## 🚀 Instalacja i Konfiguracja"
   ]
  },
  {
   "cell_type": "markdown",
   "id": "e059d79f",
   "metadata": {},
   "source": [
    "Aby rozpocząć pracę z Selenium, należy zainstalować bibliotekę oraz odpowiedni sterownik dla używanej przeglądarki (w naszym przypadku Microsoft Edge). \n",
    "Narzędzie `webdriver-manager` pomaga automatycznie zarządzać sterownikami, zapewniając zgodność z wersją przeglądarki."
   ]
  },
  {
   "cell_type": "markdown",
   "id": "84c697bc-e199-4960-bb18-a0eb6dfdc913",
   "metadata": {},
   "source": [
    "**Instalacja**\n",
    "```\n",
    "%pip install selenium\n",
    "\n",
    "%pip install webdriver-manager\n",
    "```"
   ]
  },
  {
   "cell_type": "markdown",
   "id": "890841f3",
   "metadata": {},
   "source": [
    "**Import wymaganych modułów:**\n",
    "- `webdriver` i `By` z Selenium do interakcji z przeglądarką i wyszukiwania elementów HTML.\n",
    "- `EdgeChromiumDriverManager` z `webdriver-manager` do zarządzania sterownikiem przeglądarki Edge.\n",
    "- `Service` z Selenium do konfiguracji sterownika przeglądarki.\n"
   ]
  },
  {
   "cell_type": "code",
   "execution_count": 1,
   "id": "8d478498-9eac-4dc5-817e-91d486b461e1",
   "metadata": {},
   "outputs": [],
   "source": [
    "from selenium import webdriver\n",
    "from selenium.webdriver.common.by import By\n",
    "from webdriver_manager.microsoft import EdgeChromiumDriverManager\n",
    "from selenium.webdriver.edge.service import Service"
   ]
  },
  {
   "cell_type": "markdown",
   "id": "443e2f2f",
   "metadata": {},
   "source": [
    "**Automatyczna konfiguracja sterownika dla przeglądarki:**"
   ]
  },
  {
   "cell_type": "code",
   "execution_count": 2,
   "id": "da9d3d52",
   "metadata": {},
   "outputs": [],
   "source": [
    "service = Service(EdgeChromiumDriverManager().install())\n",
    "driver = webdriver.Edge(service=service)"
   ]
  },
  {
   "cell_type": "markdown",
   "id": "2464ecd3",
   "metadata": {},
   "source": [
    "## 🤖 Przykłady zastosowań **Selenium**"
   ]
  },
  {
   "cell_type": "markdown",
   "id": "a5f0f9e5",
   "metadata": {},
   "source": [
    "### 1. 🌐 Otwarcie strony i pobranie tytułu"
   ]
  },
  {
   "cell_type": "markdown",
   "id": "5040726e",
   "metadata": {},
   "source": [
    "Selenium pozwala na automatyczne otwieranie witryn i pozyskiwanie podstawowych informacji, takich jak tytuł strony:"
   ]
  },
  {
   "cell_type": "code",
   "execution_count": 3,
   "id": "c5d94a32-9c31-435d-b24a-151a8ba3cecf",
   "metadata": {},
   "outputs": [
    {
     "name": "stdout",
     "output_type": "stream",
     "text": [
      "Tytuł strony: Facebook – zaloguj się lub zarejestruj\n"
     ]
    }
   ],
   "source": [
    "driver.get('https://pl-pl.facebook.com/')\n",
    "\n",
    "print(\"Tytuł strony:\", driver.title)"
   ]
  },
  {
   "cell_type": "code",
   "execution_count": 4,
   "id": "fa343106",
   "metadata": {},
   "outputs": [],
   "source": [
    "driver.quit()"
   ]
  },
  {
   "cell_type": "markdown",
   "id": "acab1554",
   "metadata": {},
   "source": [
    "### 2. 🏷️ Pobieranie Treści Elementów HTML"
   ]
  },
  {
   "cell_type": "markdown",
   "id": "32db6ff2",
   "metadata": {},
   "source": [
    "Za pomocą Selenium można pozyskiwać tekst zawarty w określonych elementach HTML. \n",
    "Przykład, wyciąganie nagłówków strony i linków:"
   ]
  },
  {
   "cell_type": "code",
   "execution_count": 5,
   "id": "e7f30dc3-be0c-46f6-b5c5-a7c98c1eb013",
   "metadata": {},
   "outputs": [
    {
     "name": "stdout",
     "output_type": "stream",
     "text": [
      "Tytuł nagłówka (znaleziony przez TAG_NAME): Forum\n",
      "Tytuł nagłówka (znaleziony przez CLASS_NAME): Forum\n",
      "Tytuł nagłówka (znaleziony przez CSS_SELECTOR): Forum\n",
      "Tytuł nagłówka (znaleziony przez XPATH): Forum\n",
      "Link z \"Dodaj nowy temat\": https://forum-sportowe.pl/startTopic/\n"
     ]
    }
   ],
   "source": [
    "import time\n",
    "\n",
    "driver = webdriver.Edge(service=service)\n",
    "driver.get('https://forum-sportowe.pl/')\n",
    "\n",
    "element_TAG_NAME = driver.find_element(By.TAG_NAME, 'h1')\n",
    "print(f\"Tytuł nagłówka (znaleziony przez TAG_NAME): {element_TAG_NAME.text}\")\n",
    "\n",
    "element_CLASS_NAME = driver.find_element(By.CLASS_NAME, 'ipsType_pageTitle')\n",
    "print(f\"Tytuł nagłówka (znaleziony przez CLASS_NAME): {element_CLASS_NAME.text}\")\n",
    "\n",
    "element_CSS_SELECTOR = driver.find_element(By.CSS_SELECTOR, 'h1.ipsType_pageTitle')\n",
    "print(f\"Tytuł nagłówka (znaleziony przez CSS_SELECTOR): {element_CSS_SELECTOR.text}\")\n",
    "\n",
    "element_XPATH = driver.find_element(By.XPATH, '//*[@id=\"ipsLayout_mainArea\"]/div[1]/h1')\n",
    "print(f\"Tytuł nagłówka (znaleziony przez XPATH): {element_XPATH.text}\")\n",
    "\n",
    "element_LINK_TEXT = driver.find_element(By.LINK_TEXT, 'Dodaj nowy temat')\n",
    "link_url = element_LINK_TEXT.get_attribute('href')\n",
    "print(f'Link z \"Dodaj nowy temat\": {link_url}')"
   ]
  },
  {
   "cell_type": "code",
   "execution_count": 6,
   "id": "f1653f84",
   "metadata": {},
   "outputs": [],
   "source": [
    "driver.quit()"
   ]
  },
  {
   "cell_type": "markdown",
   "id": "3fd3d5b5",
   "metadata": {},
   "source": [
    "### 3. ⏳ Oczekiwanie na element"
   ]
  },
  {
   "cell_type": "markdown",
   "id": "4fe85ab8",
   "metadata": {},
   "source": [
    "Selenium pozwala na dynamiczne oczekiwanie na pojawienie się elementów:"
   ]
  },
  {
   "cell_type": "code",
   "execution_count": 7,
   "id": "a36d665c-4790-490c-8204-0103bde1dfb0",
   "metadata": {
    "scrolled": true
   },
   "outputs": [
    {
     "name": "stdout",
     "output_type": "stream",
     "text": [
      "Akcja!\n"
     ]
    }
   ],
   "source": [
    "from selenium.webdriver.support.ui import WebDriverWait\n",
    "from selenium.webdriver.support import expected_conditions as EC\n",
    "\n",
    "driver = webdriver.Edge(service=service)\n",
    "driver.get(\"https://www.flashscore.pl/\")\n",
    "\n",
    "wait = WebDriverWait(driver, 10)\n",
    "button = wait.until(EC.presence_of_element_located((By.ID, \"userControls\")))\n",
    "\n",
    "print(\"Akcja!\")\n",
    "driver.quit()"
   ]
  },
  {
   "cell_type": "markdown",
   "id": "88b4cda4",
   "metadata": {},
   "source": [
    "### 4. ✅ Obsługa popupów i klikanie elementów"
   ]
  },
  {
   "cell_type": "markdown",
   "id": "cd2fe814",
   "metadata": {},
   "source": [
    "Można automatycznie obsługiwać okna \"popup\", takie jak zgody na pliki cookie:"
   ]
  },
  {
   "cell_type": "code",
   "execution_count": 8,
   "id": "85c9cd37-1deb-4adb-a13e-e3b24001a714",
   "metadata": {},
   "outputs": [],
   "source": [
    "driver = webdriver.Edge(service=service)\n",
    "driver.get('https://sport.interia.pl/')\n",
    "\n",
    "pass_button = driver.find_element(By.CLASS_NAME, 'rodo-popup-agree')\n",
    "pass_button.click()"
   ]
  },
  {
   "cell_type": "code",
   "execution_count": 9,
   "id": "9198ff41",
   "metadata": {},
   "outputs": [],
   "source": [
    "driver.quit()"
   ]
  },
  {
   "cell_type": "markdown",
   "id": "08f2e766",
   "metadata": {},
   "source": [
    "### 5. 🔑 Automatyzacja logowania"
   ]
  },
  {
   "cell_type": "markdown",
   "id": "72dfbf63",
   "metadata": {},
   "source": [
    "Selenium umożliwia wypełnianie formularzy i symulowanie logowania na stronie internetowej, co często wykorzystywane jest w data science do dostępu do danych wymagających autoryzacji."
   ]
  },
  {
   "cell_type": "code",
   "execution_count": 10,
   "id": "4292d0f2",
   "metadata": {},
   "outputs": [
    {
     "name": "stdout",
     "output_type": "stream",
     "text": [
      "Próba zalogowania!\n"
     ]
    }
   ],
   "source": [
    "driver = webdriver.Edge(service=service)\n",
    "driver.get('https://platforma.polsl.pl/rms/login/index.php')\n",
    "\n",
    "driver.find_element(By.ID, 'username').send_keys(\"moj_login\")\n",
    "driver.find_element(By.ID, 'password').send_keys(\"moje_haslo\")\n",
    "driver.find_element(By.CLASS_NAME, 'btn-primary').click()\n",
    "print(\"Próba zalogowania!\")"
   ]
  },
  {
   "cell_type": "code",
   "execution_count": 11,
   "id": "3a268efe",
   "metadata": {},
   "outputs": [],
   "source": [
    "driver.quit()"
   ]
  },
  {
   "cell_type": "markdown",
   "id": "42bd5b1a",
   "metadata": {},
   "source": [
    "### 6. 📜 Uzupełnianie formularza"
   ]
  },
  {
   "cell_type": "markdown",
   "id": "4c13f90d",
   "metadata": {},
   "source": [
    "Automatyzacja wypełniania formularzy na stronach internetowych:"
   ]
  },
  {
   "cell_type": "code",
   "execution_count": 12,
   "id": "68d3e8be",
   "metadata": {},
   "outputs": [
    {
     "name": "stdout",
     "output_type": "stream",
     "text": [
      "Formularz wypełniono i wyświetlono tabelę\n"
     ]
    }
   ],
   "source": [
    "from selenium.webdriver.support.ui import Select\n",
    "\n",
    "driver = webdriver.Edge(service=service)\n",
    "\n",
    "driver.get('https://bdl.stat.gov.pl/bdl/obszary')\n",
    "time.sleep(5) \n",
    "\n",
    "# 1. Obszar funkcjonalny\n",
    "obszar_funkcjonalny = Select(driver.find_element(By.ID, \"ctl00_ContentPlaceHolder_lbKrok1\"))\n",
    "obszar_funkcjonalny.select_by_value(\"01\") # \"Gminy według rodzaju\"\n",
    "\n",
    "# 2. Pozycja obszaru funkcjonalnego\n",
    "pozycja_obszaru = Select(driver.find_element(By.ID, \"ctl00_ContentPlaceHolder_lbKrok2\"))\n",
    "pozycja_obszaru.select_by_value(\"02\")  # \"gminy wiejskie\"\n",
    "\n",
    "# 3. Rok\n",
    "rok = Select(driver.find_element(By.ID, \"ctl00_ContentPlaceHolder_lbKrok3\"))\n",
    "rok.select_by_value(\"28\")  # \"2022\"\n",
    "\n",
    "# 4. Obszar tematyczny\n",
    "obszar_tematyczny = Select(driver.find_element(By.ID, \"ctl00_ContentPlaceHolder_lbKrok4\"))\n",
    "obszar_tematyczny.select_by_value(\"3\")  # \"Kapitał ludzki i społeczny\"\n",
    "\n",
    "# 5. Podobszar tematyczny\n",
    "podobszar_tematyczny = Select(driver.find_element(By.ID, \"ctl00_ContentPlaceHolder_lbKrok5\"))\n",
    "podobszar_tematyczny.select_by_value(\"10\")  # \"Edukacja i kompetencje\"\n",
    "\n",
    "# 6. Wskaźnik\n",
    "checkbox_wskaznik = driver.find_element(By.ID, \"_rfdSkinnedctl00_ContentPlaceHolder_cbKrok6\")\n",
    "if not checkbox_wskaznik.is_selected():\n",
    "    checkbox_wskaznik.click() # \"Zaznacz wszystko\"\n",
    "\n",
    "# Rodzaj zestawienia\n",
    "rodzaj_zestawienia = Select(driver.find_element(By.ID, \"ctl00_ContentPlaceHolder_lbKrok7\"))\n",
    "rodzaj_zestawienia.select_by_value(\"1\")  #  \"tabela relacyjna\"\n",
    "\n",
    "submit_button = driver.find_element(By.ID, \"ctl00_ContentPlaceHolder_btnRunRaport\")\n",
    "submit_button.click()\n",
    "\n",
    "export_button = WebDriverWait(driver, 10).until(\n",
    "        EC.visibility_of_element_located((By.XPATH, '//*[@id=\"ctl00_ContentPlaceHolder_rvRaportObszaryFunkcjonalne_ctl09_ctl04_ctl00_ButtonLink\"]'))\n",
    "    )\n",
    "\n",
    "print(\"Formularz wypełniono i wyświetlono tabelę\")\n"
   ]
  },
  {
   "cell_type": "markdown",
   "id": "8663adb2",
   "metadata": {},
   "source": [
    "### 7. 📁 Pobieranie plików"
   ]
  },
  {
   "cell_type": "markdown",
   "id": "041a065f",
   "metadata": {},
   "source": [
    "Automatyzacja pobierania plików, np. eksportu do formatu Excel:"
   ]
  },
  {
   "cell_type": "code",
   "execution_count": 13,
   "id": "651bca16",
   "metadata": {},
   "outputs": [
    {
     "ename": "TimeoutException",
     "evalue": "Message: \n",
     "output_type": "error",
     "traceback": [
      "\u001b[1;31m---------------------------------------------------------------------------\u001b[0m",
      "\u001b[1;31mTimeoutException\u001b[0m                          Traceback (most recent call last)",
      "Cell \u001b[1;32mIn[13], line 3\u001b[0m\n\u001b[0;32m      1\u001b[0m export_button\u001b[38;5;241m.\u001b[39mclick()\n\u001b[1;32m----> 3\u001b[0m excel_option \u001b[38;5;241m=\u001b[39m \u001b[43mWebDriverWait\u001b[49m\u001b[43m(\u001b[49m\u001b[43mdriver\u001b[49m\u001b[43m,\u001b[49m\u001b[43m \u001b[49m\u001b[38;5;241;43m10\u001b[39;49m\u001b[43m)\u001b[49m\u001b[38;5;241;43m.\u001b[39;49m\u001b[43muntil\u001b[49m\u001b[43m(\u001b[49m\n\u001b[0;32m      4\u001b[0m \u001b[43m        \u001b[49m\u001b[43mEC\u001b[49m\u001b[38;5;241;43m.\u001b[39;49m\u001b[43melement_to_be_clickable\u001b[49m\u001b[43m(\u001b[49m\u001b[43m(\u001b[49m\u001b[43mBy\u001b[49m\u001b[38;5;241;43m.\u001b[39;49m\u001b[43mXPATH\u001b[49m\u001b[43m,\u001b[49m\u001b[43m \u001b[49m\u001b[38;5;124;43m'\u001b[39;49m\u001b[38;5;124;43m//*[@id=\u001b[39;49m\u001b[38;5;124;43m\"\u001b[39;49m\u001b[38;5;124;43mctl00_ContentPlaceHolder_rvRaportObszaryFunkcjonalne_ctl09_ctl04_ctl00_Menu\u001b[39;49m\u001b[38;5;124;43m\"\u001b[39;49m\u001b[38;5;124;43m]/div[1]/a\u001b[39;49m\u001b[38;5;124;43m'\u001b[39;49m\u001b[43m)\u001b[49m\u001b[43m)\u001b[49m\n\u001b[0;32m      5\u001b[0m \u001b[43m    \u001b[49m\u001b[43m)\u001b[49m\n\u001b[0;32m      7\u001b[0m excel_option\u001b[38;5;241m.\u001b[39mclick()\n",
      "File \u001b[1;32m~\\AppData\\Roaming\\Python\\Python312\\site-packages\\selenium\\webdriver\\support\\wait.py:105\u001b[0m, in \u001b[0;36mWebDriverWait.until\u001b[1;34m(self, method, message)\u001b[0m\n\u001b[0;32m    103\u001b[0m         \u001b[38;5;28;01mbreak\u001b[39;00m\n\u001b[0;32m    104\u001b[0m     time\u001b[38;5;241m.\u001b[39msleep(\u001b[38;5;28mself\u001b[39m\u001b[38;5;241m.\u001b[39m_poll)\n\u001b[1;32m--> 105\u001b[0m \u001b[38;5;28;01mraise\u001b[39;00m TimeoutException(message, screen, stacktrace)\n",
      "\u001b[1;31mTimeoutException\u001b[0m: Message: \n"
     ]
    }
   ],
   "source": [
    "export_button.click()\n",
    "\n",
    "excel_option = WebDriverWait(driver, 10).until(\n",
    "        EC.element_to_be_clickable((By.XPATH, '//*[@id=\"ctl00_ContentPlaceHolder_rvRaportObszaryFunkcjonalne_ctl09_ctl04_ctl00_Menu\"]/div[1]/a'))\n",
    "    )\n",
    "\n",
    "excel_option.click()\n"
   ]
  },
  {
   "cell_type": "code",
   "execution_count": null,
   "id": "0a4a4356",
   "metadata": {},
   "outputs": [],
   "source": [
    "driver.quit()"
   ]
  },
  {
   "cell_type": "markdown",
   "id": "a204afb4",
   "metadata": {},
   "source": [
    "### 8. 🔗 Scrapowanie linków"
   ]
  },
  {
   "cell_type": "markdown",
   "id": "0a50300f",
   "metadata": {},
   "source": [
    "Automatyczne pozyskiwanie linków do dalszej analizy, np. wyników wyszukiwania na Kaggle:"
   ]
  },
  {
   "cell_type": "code",
   "execution_count": null,
   "id": "0374c35d-6567-4d09-8f26-9ecfedbec4d2",
   "metadata": {},
   "outputs": [
    {
     "name": "stdout",
     "output_type": "stream",
     "text": [
      "['https://www.kaggle.com/code/kagarg/chatbot', 'https://www.kaggle.com/code/rahulvks/text-classification-chatbot', 'https://www.kaggle.com/code/jocelyndumlao/chatbot-for-mental-health-conversations', 'https://www.kaggle.com/code/melkmanszoon/building-a-chatbot', 'https://www.kaggle.com/code/rajkumarl/conversational-ai-chatbot', 'https://www.kaggle.com/code/akshitrai/chatbot-jarvis', 'https://www.kaggle.com/code/hinepo/q-a-chatbot-with-llms-harry-potter', 'https://www.kaggle.com/code/abdallahwagih/chatbot-bookshop', 'https://www.kaggle.com/code/rohitadnaik/healthcare-chatbot', 'https://www.kaggle.com/code/niraliivaghani/chatbot-training-model', 'https://www.kaggle.com/code/pinooxd/gpt2-chatbot', 'https://www.kaggle.com/code/mahmoudreda55/generative-chatbot', 'https://www.kaggle.com/code/mohsinsial/medical-chatbot', 'https://www.kaggle.com/code/markishere/day-3-building-an-agent-with-langgraph', 'https://www.kaggle.com/code/currie32/a-south-park-chatbot', 'https://www.kaggle.com/code/bunnyhopper/anime-chatbot', 'https://www.kaggle.com/code/programminghut/seq2seq-chatbot-keras-with-attention', 'https://www.kaggle.com/code/hosammhmdali/nlp-chatbot', 'https://www.kaggle.com/code/gaurangthakur/chatbot', 'https://www.kaggle.com/code/therealsampat/first-aid-recommendation-deep-learning-chatbot']\n"
     ]
    }
   ],
   "source": [
    "driver = webdriver.Edge(service=service)\n",
    "\n",
    "urls = []\n",
    "url = \"https://www.kaggle.com/search?q=chatbot+in%3Anotebooks\"\n",
    "driver.get(url)\n",
    "time.sleep(5)\n",
    "\n",
    "ul_element = driver.find_element(By.XPATH, '//*[@id=\"results\"]/ul[1]')\n",
    "\n",
    "# Znajdź wszystkie linki <a> w <ul>\n",
    "a_elements = ul_element.find_elements(By.TAG_NAME, \"a\")\n",
    "\n",
    "for a in a_elements:\n",
    "    if a.get_attribute(\"role\") == \"link\":\n",
    "        href = a.get_attribute(\"href\")\n",
    "        if href and href.startswith(\"/\"):\n",
    "            href = \"https://www.kaggle.com\" + href\n",
    "        urls.append(href)\n",
    "print(urls)"
   ]
  },
  {
   "cell_type": "code",
   "execution_count": null,
   "id": "7f07ed8a",
   "metadata": {},
   "outputs": [],
   "source": [
    "driver.quit()"
   ]
  },
  {
   "cell_type": "markdown",
   "id": "424cee09",
   "metadata": {},
   "source": [
    "### 9. ✍️ Scrapowanie treści postów"
   ]
  },
  {
   "cell_type": "markdown",
   "id": "8fbfb27b",
   "metadata": {},
   "source": [
    "Przykład zbierania danych ze stron i zapisywania ich w strukturze tabelarycznej:"
   ]
  },
  {
   "cell_type": "code",
   "execution_count": null,
   "id": "a5483534-1d3f-4bad-a521-34cf85cb5eb7",
   "metadata": {},
   "outputs": [
    {
     "ename": "NoSuchWindowException",
     "evalue": "Message: no such window: target window already closed\nfrom unknown error: web view not found\n  (Session info: MicrosoftEdge=131.0.2903.99)\nStacktrace:\n\t(No symbol) [0x00007FF68E946B05]\n\tMicrosoft::Applications::Events::EventProperty::empty [0x00007FF68EC6F464+1437348]\n\tsqlite3_dbdata_init [0x00007FF68ED12DB6+643206]\n\t(No symbol) [0x00007FF68E807657]\n\t(No symbol) [0x00007FF68E891CE5]\n\t(No symbol) [0x00007FF68E8A670A]\n\t(No symbol) [0x00007FF68E88BE03]\n\t(No symbol) [0x00007FF68E862984]\n\t(No symbol) [0x00007FF68E861E30]\n\t(No symbol) [0x00007FF68E862571]\n\tMicrosoft::Applications::Events::EventProperty::empty [0x00007FF68EC1BAF4+1094964]\n\t(No symbol) [0x00007FF68E9832B8]\n\tMicrosoft::Applications::Events::EventProperty::empty [0x00007FF68EC1AF33+1091955]\n\tMicrosoft::Applications::Events::EventProperty::empty [0x00007FF68EC1AA99+1090777]\n\tMicrosoft::Applications::Events::ILogConfiguration::operator* [0x00007FF68EA20CA1+461553]\n\tMicrosoft::Applications::Events::ILogConfiguration::operator* [0x00007FF68EA1C9C4+444436]\n\tMicrosoft::Applications::Events::ILogConfiguration::operator* [0x00007FF68EA1CB09+444761]\n\tMicrosoft::Applications::Events::ILogConfiguration::operator* [0x00007FF68EA12186+401366]\n\tBaseThreadInitThunk [0x00007FF9ED087374+20]\n\tRtlUserThreadStart [0x00007FF9EEFDCC91+33]\n",
     "output_type": "error",
     "traceback": [
      "\u001b[1;31m---------------------------------------------------------------------------\u001b[0m",
      "\u001b[1;31mNoSuchWindowException\u001b[0m                     Traceback (most recent call last)",
      "Cell \u001b[1;32mIn[31], line 9\u001b[0m\n\u001b[0;32m      6\u001b[0m driver\u001b[38;5;241m.\u001b[39mget(base_url)\n\u001b[0;32m      7\u001b[0m time\u001b[38;5;241m.\u001b[39msleep(\u001b[38;5;241m2\u001b[39m)\n\u001b[1;32m----> 9\u001b[0m pass_button \u001b[38;5;241m=\u001b[39m \u001b[43mdriver\u001b[49m\u001b[38;5;241;43m.\u001b[39;49m\u001b[43mfind_element\u001b[49m\u001b[43m(\u001b[49m\u001b[43mBy\u001b[49m\u001b[38;5;241;43m.\u001b[39;49m\u001b[43mCLASS_NAME\u001b[49m\u001b[43m,\u001b[49m\u001b[43m \u001b[49m\u001b[38;5;124;43m'\u001b[39;49m\u001b[38;5;124;43mcss-47sehv\u001b[39;49m\u001b[38;5;124;43m'\u001b[39;49m\u001b[43m)\u001b[49m\n\u001b[0;32m     10\u001b[0m pass_button\u001b[38;5;241m.\u001b[39mclick()\n\u001b[0;32m     12\u001b[0m scrapped_posts \u001b[38;5;241m=\u001b[39m []\n",
      "File \u001b[1;32m~\\AppData\\Roaming\\Python\\Python312\\site-packages\\selenium\\webdriver\\remote\\webdriver.py:770\u001b[0m, in \u001b[0;36mWebDriver.find_element\u001b[1;34m(self, by, value)\u001b[0m\n\u001b[0;32m    767\u001b[0m         \u001b[38;5;28;01mraise\u001b[39;00m NoSuchElementException(\u001b[38;5;124mf\u001b[39m\u001b[38;5;124m\"\u001b[39m\u001b[38;5;124mCannot locate relative element with: \u001b[39m\u001b[38;5;132;01m{\u001b[39;00mby\u001b[38;5;241m.\u001b[39mroot\u001b[38;5;132;01m}\u001b[39;00m\u001b[38;5;124m\"\u001b[39m)\n\u001b[0;32m    768\u001b[0m     \u001b[38;5;28;01mreturn\u001b[39;00m elements[\u001b[38;5;241m0\u001b[39m]\n\u001b[1;32m--> 770\u001b[0m \u001b[38;5;28;01mreturn\u001b[39;00m \u001b[38;5;28;43mself\u001b[39;49m\u001b[38;5;241;43m.\u001b[39;49m\u001b[43mexecute\u001b[49m\u001b[43m(\u001b[49m\u001b[43mCommand\u001b[49m\u001b[38;5;241;43m.\u001b[39;49m\u001b[43mFIND_ELEMENT\u001b[49m\u001b[43m,\u001b[49m\u001b[43m \u001b[49m\u001b[43m{\u001b[49m\u001b[38;5;124;43m\"\u001b[39;49m\u001b[38;5;124;43musing\u001b[39;49m\u001b[38;5;124;43m\"\u001b[39;49m\u001b[43m:\u001b[49m\u001b[43m \u001b[49m\u001b[43mby\u001b[49m\u001b[43m,\u001b[49m\u001b[43m \u001b[49m\u001b[38;5;124;43m\"\u001b[39;49m\u001b[38;5;124;43mvalue\u001b[39;49m\u001b[38;5;124;43m\"\u001b[39;49m\u001b[43m:\u001b[49m\u001b[43m \u001b[49m\u001b[43mvalue\u001b[49m\u001b[43m}\u001b[49m\u001b[43m)\u001b[49m[\u001b[38;5;124m\"\u001b[39m\u001b[38;5;124mvalue\u001b[39m\u001b[38;5;124m\"\u001b[39m]\n",
      "File \u001b[1;32m~\\AppData\\Roaming\\Python\\Python312\\site-packages\\selenium\\webdriver\\remote\\webdriver.py:384\u001b[0m, in \u001b[0;36mWebDriver.execute\u001b[1;34m(self, driver_command, params)\u001b[0m\n\u001b[0;32m    382\u001b[0m response \u001b[38;5;241m=\u001b[39m \u001b[38;5;28mself\u001b[39m\u001b[38;5;241m.\u001b[39mcommand_executor\u001b[38;5;241m.\u001b[39mexecute(driver_command, params)\n\u001b[0;32m    383\u001b[0m \u001b[38;5;28;01mif\u001b[39;00m response:\n\u001b[1;32m--> 384\u001b[0m     \u001b[38;5;28;43mself\u001b[39;49m\u001b[38;5;241;43m.\u001b[39;49m\u001b[43merror_handler\u001b[49m\u001b[38;5;241;43m.\u001b[39;49m\u001b[43mcheck_response\u001b[49m\u001b[43m(\u001b[49m\u001b[43mresponse\u001b[49m\u001b[43m)\u001b[49m\n\u001b[0;32m    385\u001b[0m     response[\u001b[38;5;124m\"\u001b[39m\u001b[38;5;124mvalue\u001b[39m\u001b[38;5;124m\"\u001b[39m] \u001b[38;5;241m=\u001b[39m \u001b[38;5;28mself\u001b[39m\u001b[38;5;241m.\u001b[39m_unwrap_value(response\u001b[38;5;241m.\u001b[39mget(\u001b[38;5;124m\"\u001b[39m\u001b[38;5;124mvalue\u001b[39m\u001b[38;5;124m\"\u001b[39m, \u001b[38;5;28;01mNone\u001b[39;00m))\n\u001b[0;32m    386\u001b[0m     \u001b[38;5;28;01mreturn\u001b[39;00m response\n",
      "File \u001b[1;32m~\\AppData\\Roaming\\Python\\Python312\\site-packages\\selenium\\webdriver\\remote\\errorhandler.py:232\u001b[0m, in \u001b[0;36mErrorHandler.check_response\u001b[1;34m(self, response)\u001b[0m\n\u001b[0;32m    230\u001b[0m         alert_text \u001b[38;5;241m=\u001b[39m value[\u001b[38;5;124m\"\u001b[39m\u001b[38;5;124malert\u001b[39m\u001b[38;5;124m\"\u001b[39m]\u001b[38;5;241m.\u001b[39mget(\u001b[38;5;124m\"\u001b[39m\u001b[38;5;124mtext\u001b[39m\u001b[38;5;124m\"\u001b[39m)\n\u001b[0;32m    231\u001b[0m     \u001b[38;5;28;01mraise\u001b[39;00m exception_class(message, screen, stacktrace, alert_text)  \u001b[38;5;66;03m# type: ignore[call-arg]  # mypy is not smart enough here\u001b[39;00m\n\u001b[1;32m--> 232\u001b[0m \u001b[38;5;28;01mraise\u001b[39;00m exception_class(message, screen, stacktrace)\n",
      "\u001b[1;31mNoSuchWindowException\u001b[0m: Message: no such window: target window already closed\nfrom unknown error: web view not found\n  (Session info: MicrosoftEdge=131.0.2903.99)\nStacktrace:\n\t(No symbol) [0x00007FF68E946B05]\n\tMicrosoft::Applications::Events::EventProperty::empty [0x00007FF68EC6F464+1437348]\n\tsqlite3_dbdata_init [0x00007FF68ED12DB6+643206]\n\t(No symbol) [0x00007FF68E807657]\n\t(No symbol) [0x00007FF68E891CE5]\n\t(No symbol) [0x00007FF68E8A670A]\n\t(No symbol) [0x00007FF68E88BE03]\n\t(No symbol) [0x00007FF68E862984]\n\t(No symbol) [0x00007FF68E861E30]\n\t(No symbol) [0x00007FF68E862571]\n\tMicrosoft::Applications::Events::EventProperty::empty [0x00007FF68EC1BAF4+1094964]\n\t(No symbol) [0x00007FF68E9832B8]\n\tMicrosoft::Applications::Events::EventProperty::empty [0x00007FF68EC1AF33+1091955]\n\tMicrosoft::Applications::Events::EventProperty::empty [0x00007FF68EC1AA99+1090777]\n\tMicrosoft::Applications::Events::ILogConfiguration::operator* [0x00007FF68EA20CA1+461553]\n\tMicrosoft::Applications::Events::ILogConfiguration::operator* [0x00007FF68EA1C9C4+444436]\n\tMicrosoft::Applications::Events::ILogConfiguration::operator* [0x00007FF68EA1CB09+444761]\n\tMicrosoft::Applications::Events::ILogConfiguration::operator* [0x00007FF68EA12186+401366]\n\tBaseThreadInitThunk [0x00007FF9ED087374+20]\n\tRtlUserThreadStart [0x00007FF9EEFDCC91+33]\n"
     ]
    }
   ],
   "source": [
    "import pandas as pd\n",
    "\n",
    "driver = webdriver.Edge(service=service)\n",
    "\n",
    "base_url = 'https://forumpsychiatryczne.pl/forum/'\n",
    "driver.get(base_url)\n",
    "time.sleep(2)\n",
    "\n",
    "pass_button = driver.find_element(By.CLASS_NAME, 'css-47sehv')\n",
    "pass_button.click()\n",
    "\n",
    "scrapped_posts = []\n",
    "\n",
    "thread_links = driver.find_elements(By.CSS_SELECTOR, 'a.text-xl.font-bold.text-primary')\n",
    "urls = [link.get_attribute('href') for link in thread_links]\n",
    "\n",
    "for url in urls:\n",
    "    driver.get(url)\n",
    "\n",
    "    post_links = driver.find_elements(By.CSS_SELECTOR, 'a.mr-4')\n",
    "    plots_links = [post.get_attribute('href') for post in post_links]\n",
    "\n",
    "    for post_url in plots_links:\n",
    "        driver.get(post_url) \n",
    "\n",
    "        elements = driver.find_elements(By.CLASS_NAME, \"break-words\")\n",
    "        \n",
    "      \n",
    "        for element in elements:\n",
    "            scrapped_posts.append({\"tekst\": element.text, \"kategoria\": \"Psychiatria\"})\n",
    "        driver.quit()\n",
    "        break\n",
    "    break\n",
    "\n",
    "df = pd.DataFrame(scrapped_posts)\n",
    "print(df)"
   ]
  },
  {
   "cell_type": "markdown",
   "id": "98dc655b",
   "metadata": {},
   "source": [
    "### 10. ⏬ Przewijanie strony"
   ]
  },
  {
   "cell_type": "markdown",
   "id": "91682baa",
   "metadata": {},
   "source": [
    "Automatyczne przewinięcie strony:"
   ]
  },
  {
   "cell_type": "code",
   "execution_count": 18,
   "id": "9421e696-b141-4d19-b62a-9a122ad8962b",
   "metadata": {},
   "outputs": [],
   "source": [
    "driver = webdriver.Edge(service=service)\n",
    "driver.get('https://forum-sportowe.pl/')"
   ]
  },
  {
   "cell_type": "markdown",
   "id": "7f772ab6",
   "metadata": {},
   "source": [
    "- do określonego elementu: "
   ]
  },
  {
   "cell_type": "code",
   "execution_count": 19,
   "id": "a1e95914",
   "metadata": {},
   "outputs": [
    {
     "name": "stdout",
     "output_type": "stream",
     "text": [
      "Przewinięto stronę do elementu 'Fitness i aerobik'.\n"
     ]
    }
   ],
   "source": [
    "element = driver.find_element(By.XPATH, '//*[@id=\"ipsLayout_mainArea\"]/section/ol/li[1]/ol/li[5]/div[2]/h4/a')\n",
    "driver.execute_script(\"arguments[0].scrollIntoView(true);\", element)\n",
    "print(\"Przewinięto stronę do elementu 'Fitness i aerobik'.\")\n"
   ]
  },
  {
   "cell_type": "markdown",
   "id": "ba977bb1",
   "metadata": {},
   "source": [
    "- na koniec strony:"
   ]
  },
  {
   "cell_type": "code",
   "execution_count": 20,
   "id": "03402de2",
   "metadata": {},
   "outputs": [
    {
     "name": "stdout",
     "output_type": "stream",
     "text": [
      "Przewinięto stronę w dół.\n"
     ]
    }
   ],
   "source": [
    "driver.execute_script(\"window.scrollTo(0, document.body.scrollHeight);\")\n",
    "print(\"Przewinięto stronę w dół.\")"
   ]
  },
  {
   "cell_type": "code",
   "execution_count": 21,
   "id": "dbb24cb6",
   "metadata": {},
   "outputs": [],
   "source": [
    "driver.quit()"
   ]
  },
  {
   "cell_type": "markdown",
   "id": "ab7cc407",
   "metadata": {},
   "source": [
    "### 11. 🖥️ Zarządzanie kartami"
   ]
  },
  {
   "cell_type": "markdown",
   "id": "17a81e11",
   "metadata": {},
   "source": [
    "Obsługa wielu kart przeglądarki:"
   ]
  },
  {
   "cell_type": "code",
   "execution_count": 22,
   "id": "f47d0d7c-76dc-465b-b36d-8ac38dd66400",
   "metadata": {},
   "outputs": [
    {
     "name": "stdout",
     "output_type": "stream",
     "text": [
      "Przełączono na zakładkę: https://www.interia.pl/\n"
     ]
    }
   ],
   "source": [
    "driver = webdriver.Edge(service=service)\n",
    "driver.get(\"https://www.flashscore.pl/\")\n",
    "time.sleep(5)\n",
    "\n",
    "driver.execute_script(\"window.open('https://www.interia.pl/', '_blank');\")\n",
    "\n",
    "driver.switch_to.window(driver.window_handles[1])\n",
    "print(\"Przełączono na zakładkę:\", driver.current_url)\n",
    "time.sleep(5)\n",
    "driver.quit()"
   ]
  },
  {
   "cell_type": "markdown",
   "id": "798d71bf",
   "metadata": {},
   "source": [
    "### 12. 📸 Pobranie zrzutu ekranu"
   ]
  },
  {
   "cell_type": "markdown",
   "id": "437428aa",
   "metadata": {},
   "source": [
    "Możliwość zapisywania zrzutów ekranu:"
   ]
  },
  {
   "cell_type": "code",
   "execution_count": 27,
   "id": "3193dfdf-3ff5-447a-88a9-96293e6f942b",
   "metadata": {},
   "outputs": [],
   "source": [
    "driver = webdriver.Edge(service=service)\n",
    "driver.get('https://www.flashscore.pl/tabela/8OzStwmK/buJuHfwh/#/buJuHfwh/table/overall')"
   ]
  },
  {
   "cell_type": "markdown",
   "id": "09920159",
   "metadata": {},
   "source": [
    "- całej strony:"
   ]
  },
  {
   "cell_type": "code",
   "execution_count": 28,
   "id": "b5011240",
   "metadata": {},
   "outputs": [
    {
     "name": "stdout",
     "output_type": "stream",
     "text": [
      "Zapisano zrzut ekranu.\n"
     ]
    }
   ],
   "source": [
    "driver.save_screenshot(\"screenshot_all_page.png\")\n",
    "print(\"Zapisano zrzut ekranu.\")"
   ]
  },
  {
   "cell_type": "markdown",
   "id": "62d71517",
   "metadata": {},
   "source": [
    "- określonego elementu:"
   ]
  },
  {
   "cell_type": "code",
   "execution_count": 30,
   "id": "466945bd",
   "metadata": {},
   "outputs": [
    {
     "name": "stdout",
     "output_type": "stream",
     "text": [
      "Zrobiono zrzut ekranu pierwszej drużyny.\n"
     ]
    }
   ],
   "source": [
    "first_team_element = driver.find_element(By.XPATH, '//*[@id=\"tournament-table-tabs-and-content\"]/div[3]/div[1]/div/div/div[2]/div[1]')\n",
    "first_team_element.screenshot('screenshot_element.png')\n",
    "\n",
    "print(\"Zrobiono zrzut ekranu pierwszej drużyny.\")"
   ]
  },
  {
   "cell_type": "code",
   "execution_count": null,
   "id": "3e060ebf",
   "metadata": {},
   "outputs": [],
   "source": [
    "driver.quit()"
   ]
  },
  {
   "cell_type": "markdown",
   "id": "1debff58",
   "metadata": {},
   "source": [
    "### 11. ✅ Testowanie za pomocą asercji"
   ]
  },
  {
   "cell_type": "markdown",
   "id": "6e7dd2cf",
   "metadata": {},
   "source": [
    "Weryfikacja poprawności elementów za pomocą asercji:"
   ]
  },
  {
   "cell_type": "code",
   "execution_count": null,
   "id": "2a5a1723-5b08-4399-9afe-3da440e22498",
   "metadata": {},
   "outputs": [
    {
     "ename": "AssertionError",
     "evalue": "Tytuł strony jest niepoprawny!",
     "output_type": "error",
     "traceback": [
      "\u001b[1;31m---------------------------------------------------------------------------\u001b[0m",
      "\u001b[1;31mAssertionError\u001b[0m                            Traceback (most recent call last)",
      "Cell \u001b[1;32mIn[27], line 4\u001b[0m\n\u001b[0;32m      1\u001b[0m driver \u001b[38;5;241m=\u001b[39m webdriver\u001b[38;5;241m.\u001b[39mEdge(service\u001b[38;5;241m=\u001b[39mservice)\n\u001b[0;32m      2\u001b[0m driver\u001b[38;5;241m.\u001b[39mget(\u001b[38;5;124m'\u001b[39m\u001b[38;5;124mhttps://pl-pl.facebook.com/\u001b[39m\u001b[38;5;124m'\u001b[39m)\n\u001b[1;32m----> 4\u001b[0m \u001b[38;5;28;01massert\u001b[39;00m \u001b[38;5;124m\"\u001b[39m\u001b[38;5;124mFacebooki\u001b[39m\u001b[38;5;124m\"\u001b[39m \u001b[38;5;129;01min\u001b[39;00m driver\u001b[38;5;241m.\u001b[39mtitle, \u001b[38;5;124m\"\u001b[39m\u001b[38;5;124mTytuł strony jest niepoprawny!\u001b[39m\u001b[38;5;124m\"\u001b[39m\n\u001b[0;32m      6\u001b[0m \u001b[38;5;28mprint\u001b[39m(\u001b[38;5;124m\"\u001b[39m\u001b[38;5;124mTest zakończony pomyślnie.\u001b[39m\u001b[38;5;124m\"\u001b[39m)\n\u001b[0;32m      7\u001b[0m driver\u001b[38;5;241m.\u001b[39mquit()\n",
      "\u001b[1;31mAssertionError\u001b[0m: Tytuł strony jest niepoprawny!"
     ]
    }
   ],
   "source": [
    "driver = webdriver.Edge(service=service)\n",
    "driver.get('https://pl-pl.facebook.com/')\n",
    "\n",
    "assert \"Facebooki\" in driver.title, \"Tytuł strony jest niepoprawny!\"\n",
    "\n",
    "print(\"Test zakończony pomyślnie.\")"
   ]
  },
  {
   "cell_type": "code",
   "execution_count": null,
   "id": "ed0f01ed",
   "metadata": {},
   "outputs": [],
   "source": [
    "driver.quit()"
   ]
  },
  {
   "cell_type": "markdown",
   "id": "c888efb9",
   "metadata": {},
   "source": [
    "### 12. ⚠️ Obsługa wyjątków"
   ]
  },
  {
   "cell_type": "markdown",
   "id": "32bafeb5",
   "metadata": {},
   "source": [
    "Radzenie sobie z błędami w Selenium:"
   ]
  },
  {
   "cell_type": "code",
   "execution_count": null,
   "id": "7a3f7186-25e7-4d51-9968-3724fcfb1ebc",
   "metadata": {},
   "outputs": [
    {
     "name": "stdout",
     "output_type": "stream",
     "text": [
      "Przełączono na zakładkę: https://www.interia.pl/\n"
     ]
    }
   ],
   "source": [
    "try:\n",
    "    driver = webdriver.Edge(service=service)\n",
    "    driver.get(\"https://www.flashscore.pl/\")\n",
    "    time.sleep(5)\n",
    "\n",
    "    driver.execute_script(\"window.open('https://www.interia.pl/', '_blank');\")\n",
    "\n",
    "    driver.switch_to.window(driver.window_handles[1])\n",
    "    print(\"Przełączono na zakładkę:\", driver.current_url)\n",
    "except Exception as e:\n",
    "    print(\"Błąd:\", e)\n",
    "finally:\n",
    "    driver.quit()"
   ]
  },
  {
   "cell_type": "markdown",
   "id": "e164381f",
   "metadata": {},
   "source": [
    "# 🎯 Zastosowanie Selenium w Data Science\n"
   ]
  },
  {
   "cell_type": "markdown",
   "id": "281fbe76",
   "metadata": {},
   "source": [
    "1. **Pozyskiwanie danych**: Scrapowanie dynamicznych treści z witryn trudno dostępnych dla tradycyjnych bibliotek, takich jak BeautifulSoup.\n",
    "\n",
    "2. **Analiza tekstu**: Automatyczne pobieranie tekstów z forów, blogów lub serwisów informacyjnych do analizy sentymentu, klasyfikacji tekstów czy ekstrakcji informacji.\n",
    "\n",
    "3. **Monitoring stron**: Automatyczne zbieranie danych w regularnych odstępach czasu, np. do analizy trendów rynkowych.\n",
    "\n",
    "4. **Wizualizacja wyników**: Generowanie zrzutów ekranu dynamicznych wizualizacji w celu ich dalszego przetwarzania."
   ]
  },
  {
   "cell_type": "markdown",
   "id": "ef3610a4",
   "metadata": {},
   "source": [
    "## 🏁 Podsumowanie"
   ]
  },
  {
   "cell_type": "markdown",
   "id": "3485b968",
   "metadata": {},
   "source": [
    "Selenium to potężne narzędzie dla data scientistów. Jego elastyczność pozwala na realizację zarówno prostych zadań, takich jak pobieranie tytułów stron, jak i bardziej zaawansowanych scenariuszy, takich jak scrapowanie danych z dynamicznych formularzy czy automatyzacja testów. Integracja z innymi narzędziami, takimi jak `pandas` czy `matplotlib`, otwiera szerokie możliwości analizy danych."
   ]
  }
 ],
 "metadata": {
  "kernelspec": {
   "display_name": "Python 3",
   "language": "python",
   "name": "python3"
  },
  "language_info": {
   "codemirror_mode": {
    "name": "ipython",
    "version": 3
   },
   "file_extension": ".py",
   "mimetype": "text/x-python",
   "name": "python",
   "nbconvert_exporter": "python",
   "pygments_lexer": "ipython3",
   "version": "3.12.2"
  }
 },
 "nbformat": 4,
 "nbformat_minor": 5
}
